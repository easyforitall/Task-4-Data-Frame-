{
  "cells": [
    {
      "cell_type": "markdown",
      "metadata": {
        "id": "view-in-github",
        "colab_type": "text"
      },
      "source": [
        "<a href=\"https://colab.research.google.com/github/easyforitall/Task-4-Data-Frame-/blob/main/Assessment2B.ipynb\" target=\"_parent\"><img src=\"https://colab.research.google.com/assets/colab-badge.svg\" alt=\"Open In Colab\"/></a>"
      ]
    },
    {
      "cell_type": "markdown",
      "metadata": {
        "id": "_5qG3ZcOKRPS"
      },
      "source": [
        "###### Assessment"
      ]
    },
    {
      "cell_type": "markdown",
      "metadata": {
        "id": "Vajgqq0xKRPY"
      },
      "source": [
        "###### I am going to provide two .csv files , you are supposed to work on them and have to provide solutions to the following problems"
      ]
    },
    {
      "cell_type": "markdown",
      "metadata": {
        "id": "QyBWwitNKRPa"
      },
      "source": [
        "###### import necessary libraries"
      ]
    },
    {
      "cell_type": "code",
      "execution_count": null,
      "metadata": {
        "id": "4TjgMd2SKRPb"
      },
      "outputs": [],
      "source": [
        "import numpy as np\n",
        "import pandas as pd\n",
        "import matplotlib.pyplot as plt\n",
        "import seaborn as sns"
      ]
    },
    {
      "cell_type": "markdown",
      "metadata": {
        "id": "h8kUFwNbKRPc"
      },
      "source": [
        "###### merge those two csv files (after getting as dataframes, get them as a single dataframe)"
      ]
    },
    {
      "cell_type": "code",
      "execution_count": null,
      "metadata": {
        "id": "0yk7k0QVKRPd"
      },
      "outputs": [],
      "source": [
        "df = pd.read_csv(\"college_1.csv\")\n",
        "df1 = pd.read_csv(\"college_2.csv\")\n",
        "df2 = pd.merge(df,df1,on='Name',how='outer')"
      ]
    },
    {
      "cell_type": "markdown",
      "metadata": {
        "id": "9RI13I5KKRPe"
      },
      "source": [
        "###### Take each csv file , split that csv file into multiple categories (example csv files are added in the repo) \n"
      ]
    },
    {
      "cell_type": "markdown",
      "metadata": {
        "id": "NglgJDLRKRPf"
      },
      "source": [
        "###### consider if the codekata score exceeds 15000 points(present week) then make a csv on those observations as Exceeded expectations.csv\n"
      ]
    },
    {
      "cell_type": "markdown",
      "metadata": {
        "id": "hrWbwZ4CKRPh"
      },
      "source": [
        "###### if  10000<codekata score<15000   (Reached_expectations.csv)\n",
        "\n"
      ]
    },
    {
      "cell_type": "markdown",
      "metadata": {
        "id": "qmAJSu4bKRPj"
      },
      "source": [
        "###### if  7000<codekata score<10000   (Needs_Improvement.csv)\n"
      ]
    },
    {
      "cell_type": "markdown",
      "metadata": {
        "id": "s7dc3y-lKRPl"
      },
      "source": [
        "###### if  codekate score < 7000        (Unsatisfactory.csv)"
      ]
    },
    {
      "cell_type": "code",
      "execution_count": null,
      "metadata": {
        "id": "Blj86Oz-KRPn"
      },
      "outputs": [],
      "source": [
        "#Exceeded Expectations.csv\n",
        "li = {}\n",
        "for i in df[\"CodeKata Score\"]:\n",
        "  if i>15000:\n",
        "    li[df.loc[df[\"CodeKata Score\"]==i],'Name'].values[0]]=i\n",
        "data = {\"name\":li.keys(),\"Exceeded score\": li.values()}\n",
        "df3 = pd.DataFrame.from_dict(data)\n",
        "df3.to_csv(\"Exceeded Expectations.csv\",index=False)\n",
        "#Reached Expectations.csv\n",
        "li1 = {}\n",
        "for i in df[\"CodeKata Score\"]:\n",
        "    if ((i>10000) and (i<15000)):\n",
        "        li1[df.loc[df[\"CodeKata Score\"]==i,'Name'].values[0]] = i\n",
        "data1 = {'name':li1.keys(),'Reached score':li1.values()}\n",
        "df4 = pd.DataFrame.from_dict(data1)\n",
        "df4.to_csv(\"Reached_Expectations.csv\",index=False)\n",
        "#Needs_Improvement.csv\n",
        "li2 = {}\n",
        "for i in df[\"CodeKata Score\"]:\n",
        "    if ((i>7000) and (i<10000)):\n",
        "        li2[df.loc[df[\"CodeKata Score\"]==i,'Name'].values[0]] = i\n",
        "data2 = {'name':li2.keys(),'improvement score':li2.values()}\n",
        "df5 = pd.DataFrame.from_dict(data2)\n",
        "df5.to_csv(\"Needs_Improvement.csv\",index=False)\n",
        "#Unsatisfactory.csv\n",
        "li3 = {}\n",
        "for i in df[\"CodeKata Score\"]:\n",
        "    if i<7000:\n",
        "        li3[df.loc[df[\"CodeKata Score\"]==i,'Name'].values[0]] = i\n",
        "data3 = {'name':li3.keys(),'unsatisfactory score':li3.values()}\n",
        "df6 = pd.DataFrame.from_dict(data3)\n",
        "df6.to_csv(\"UnSatisfactory.csv\",index=False)"
      ]
    },
    {
      "cell_type": "code",
      "execution_count": null,
      "metadata": {
        "id": "ZqESr2tFKRPn"
      },
      "outputs": [],
      "source": [
        "# for df2\n",
        "li = {}\n",
        "for i in df2[\"CodeKata Score\"]:\n",
        "  if i>15000:\n",
        "    li[df2.loc[df2[\"CodeKata Score\"]==i],'Name'].values[0]]=i\n",
        "data = {\"name\":li.keys(),\"Exceeded score\": li.values()}\n",
        "df3 = pd.DataFrame.from_dict(data)\n",
        "df3.to_csv(\"Exceeded Expectations.csv\",index=False)\n",
        "#Reached Expectations.csv\n",
        "li1 = {}\n",
        "for i in df2[\"CodeKata Score\"]:\n",
        "    if ((i>10000) and (i<15000)):\n",
        "        li1[df2.loc[df2[\"CodeKata Score\"]==i,'Name'].values[0]] = i\n",
        "data1 = {'name':li1.keys(),'Reached score':li1.values()}\n",
        "df4 = pd.DataFrame.from_dict(data1)\n",
        "df4.to_csv(\"Reached_Expectations.csv\",index=False)\n",
        "#Needs_Improvement.csv\n",
        "li2 = {}\n",
        "for i in df2[\"CodeKata Score\"]:\n",
        "    if ((i>7000) and (i<10000)):\n",
        "        li2[df2.loc[df2[\"CodeKata Score\"]==i,'Name'].values[0]] = i\n",
        "data2 = {'name':li2.keys(),'improvement score':li2.values()}\n",
        "df5 = pd.DataFrame.from_dict(data2)\n",
        "df5.to_csv(\"Needs_Improvement.csv\",index=False)\n",
        "#Unsatisfactory.csv\n",
        "li3 = {}\n",
        "for i in df2[\"CodeKata Score\"]:\n",
        "    if i<7000:\n",
        "        li3[df2.loc[df2[\"CodeKata Score\"]==i,'Name'].values[0]] = i\n",
        "data3 = {'name':li3.keys(),'unsatisfactory score':li3.values()}\n",
        "df6 = pd.DataFrame.from_dict(data3)\n",
        "df6.to_csv(\"UnSatisfactory.csv\",index=False)"
      ]
    },
    {
      "cell_type": "markdown",
      "metadata": {
        "id": "H16lZ5edKRPo"
      },
      "source": [
        "###### Average of previous week geekions vs this week geekions (i.e Previous Geekions vs CodeKata Score)"
      ]
    },
    {
      "cell_type": "code",
      "execution_count": null,
      "metadata": {
        "id": "xZ-EraXpKRPp"
      },
      "outputs": [],
      "source": [
        "df[\"Previous Geekions\"].mean(),df[\"CodeKata Score\"].mean()\n",
        "df2[\"Previous Geekions\"].mean(),df[\"CodeKata Score\"].mean()"
      ]
    },
    {
      "cell_type": "markdown",
      "metadata": {
        "id": "x0yE0lwUKRPp"
      },
      "source": [
        "###### No of students participated "
      ]
    },
    {
      "cell_type": "code",
      "execution_count": null,
      "metadata": {
        "id": "w-3W9ibiKRPq"
      },
      "outputs": [],
      "source": [
        "df2[\"Name\"].nunique()"
      ]
    },
    {
      "cell_type": "markdown",
      "metadata": {
        "id": "IyHG__iQKRPq"
      },
      "source": [
        "###### #Average completion of python course or my_sql or python english or computational thinking"
      ]
    },
    {
      "cell_type": "code",
      "execution_count": null,
      "metadata": {
        "id": "Ez3zCFGBKRPq"
      },
      "outputs": [],
      "source": [
        "df3[[\"python_x\",\"python_y\",\"mysql_x\",\"mysql_y\",\"computational_thinking\",\"python_en\"]].mean()"
      ]
    },
    {
      "cell_type": "markdown",
      "metadata": {
        "id": "DNA3BT0KKRPr"
      },
      "source": [
        "###### rising star of the week (top 3 candidate who performed well in that particular week)"
      ]
    },
    {
      "cell_type": "code",
      "execution_count": null,
      "metadata": {
        "id": "GM8M_MoXKRPr"
      },
      "outputs": [],
      "source": [
        "df.sort_values(by = [\"CodeKata Score\"],ascending=False).head(3)\n",
        "df1.sort_values(by=[\"CodeKata Score\"],ascending=False).head(3)"
      ]
    },
    {
      "cell_type": "markdown",
      "metadata": {
        "id": "v2Xs1vxsKRPs"
      },
      "source": [
        "###### Shining stars of the week (top 3 candidates who has highest geekions)"
      ]
    },
    {
      "cell_type": "code",
      "execution_count": null,
      "metadata": {
        "id": "41mKnnpfKRPs"
      },
      "outputs": [],
      "source": [
        "df.sort_values(by = [\"Previous Geekions\"],ascending=False).head(3)\n"
      ]
    },
    {
      "cell_type": "code",
      "source": [
        "df1.sort_values(by=[\"Previous Geekions\"],ascending=False).head(3)"
      ],
      "metadata": {
        "id": "NpuXYTtoFFLZ"
      },
      "execution_count": null,
      "outputs": []
    },
    {
      "cell_type": "markdown",
      "metadata": {
        "id": "PprfXjM4KRPt"
      },
      "source": [
        "###### Department wise codekata performence (pie chart)"
      ]
    },
    {
      "cell_type": "code",
      "execution_count": null,
      "metadata": {
        "id": "26lW85XeKRPx"
      },
      "outputs": [],
      "source": [
        "df.groupby([\"Department\"])[\"CodeKata Score\"].mean().plot(kind=\"pie\")\n",
        "df1.groupby([\"Department\"])[\"CodeKata Score\"].mean().plot(kind=\"pie\")"
      ]
    },
    {
      "cell_type": "markdown",
      "metadata": {
        "id": "5cDLCpfLKRPx"
      },
      "source": [
        "###### Department wise toppers (horizantal bar graph or any visual representations of your choice)"
      ]
    },
    {
      "cell_type": "code",
      "execution_count": null,
      "metadata": {
        "id": "TGnS5TGzKRPy"
      },
      "outputs": [],
      "source": [
        "#Department wise toppers\n",
        "df.groupby([\"Department\"])[\"CodeKata Score\"].mean().plot(kind=\"barh\",title=\"Departmentwise Toppers in CodeKatha score\")"
      ]
    },
    {
      "cell_type": "code",
      "execution_count": null,
      "metadata": {
        "id": "OODXSnKDKRPy"
      },
      "outputs": [],
      "source": [
        "#Top 5 in computerscience\n",
        "df.set_index(\"Name\",inplace=True)\n",
        "a = df[\"Department\"]==\"Computer Science and Engineering\"\n",
        "df.loc[a,[\"CodeKata Score\"]].sort_values(by=[\"CodeKata Score\"],ascending=False).head().plot(kind=\"barh\")"
      ]
    },
    {
      "cell_type": "code",
      "execution_count": null,
      "metadata": {
        "id": "-_KKoAIhKRPy"
      },
      "outputs": [],
      "source": [
        "#Top 5 in Electronics and communication\n",
        "a = df[\"Department\"]==\"Electronics and Communication Engineering\"\n",
        "df.loc[a,[\"CodeKata Score\"]].sort_values(by=[\"CodeKata Score\"],ascending=False).head().plot(kind=\"barh\")"
      ]
    },
    {
      "cell_type": "code",
      "execution_count": null,
      "metadata": {
        "id": "a8K9h-8lKRPy"
      },
      "outputs": [],
      "source": [
        "#Top 5 in Electrical and Electronics\n",
        "a = df[\"Department\"]==\"Electronics and Electrical Engineering\"\n",
        "df.loc[a,[\"CodeKata Score\"]].sort_values(by=[\"CodeKata Score\"],ascending=False).head().plot(kind=\"barh\")"
      ]
    }
  ],
  "metadata": {
    "kernelspec": {
      "display_name": "Python 3",
      "language": "python",
      "name": "python3"
    },
    "language_info": {
      "codemirror_mode": {
        "name": "ipython",
        "version": 3
      },
      "file_extension": ".py",
      "mimetype": "text/x-python",
      "name": "python",
      "nbconvert_exporter": "python",
      "pygments_lexer": "ipython3",
      "version": "3.8.3"
    },
    "colab": {
      "name": "Assessment2B.ipynb",
      "provenance": [],
      "include_colab_link": true
    }
  },
  "nbformat": 4,
  "nbformat_minor": 0
}